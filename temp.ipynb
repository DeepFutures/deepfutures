{
 "cells": [
  {
   "cell_type": "code",
   "execution_count": null,
   "metadata": {},
   "outputs": [],
   "source": [
    "'''          \n",
    "    def DoMoveTemp(self, move):\n",
    "        \"\"\" Update a state by carrying out the given move.\n",
    "            Must update playerJustMoved.\n",
    "        \"\"\"\n",
    "        if self.playerJustMoved == 2:\n",
    "            self.playerJustMoved = 3 - self.playerJustMoved\n",
    "            self.tempPlayer1.actionId = move\n",
    "            self.tempPlayer1.action = self.tempPlayer1.translateAction(self.tempPlayer1.actionId)\n",
    "            self.tempPlayer1.submitAction(self.tempTransaction)\n",
    "        else:\n",
    "            self.playerJustMoved = 3 - self.playerJustMoved\n",
    "            self.tempPlayer2.actionId = move\n",
    "            self.tempPlayer2.action = self.tempPlayer2.translateAction(self.tempPlayer2.actionId)\n",
    "            self.tempPlayer2.submitAction(self.tempTransaction)\n",
    "            self.tempTransaction.match()\n",
    "            self.tempPlayer1.upgradeAsset(self.tempTransaction)\n",
    "            self.tempPlayer2.upgradeAsset(self.tempTransaction)\n",
    "            asset = self.tempPlayer2.asset\n",
    "            self.upgradeTrainFeatures(asset, self.tempTransaction.curStep)\n",
    "            del self.tempTransaction.submissions[:]\n",
    "            self.tempTransaction.matchTable.clear()\n",
    "            self.tempTransaction.assetTable.clear()\n",
    "            self.tempTransaction.curStep += 1\n",
    "'''  "
   ]
  }
 ],
 "metadata": {
  "kernelspec": {
   "display_name": "Python 2",
   "language": "python",
   "name": "python2"
  },
  "language_info": {
   "codemirror_mode": {
    "name": "ipython",
    "version": 2
   },
   "file_extension": ".py",
   "mimetype": "text/x-python",
   "name": "python",
   "nbconvert_exporter": "python",
   "pygments_lexer": "ipython2",
   "version": "2.7.14"
  }
 },
 "nbformat": 4,
 "nbformat_minor": 2
}
